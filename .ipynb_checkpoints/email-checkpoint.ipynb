{
 "cells": [
  {
   "cell_type": "code",
   "execution_count": 16,
   "metadata": {},
   "outputs": [
    {
     "name": "stdout",
     "output_type": "stream",
     "text": [
      "Requirement already satisfied: requests in c:\\users\\jimmy\\anaconda3\\lib\\site-packages (2.22.0)\n",
      "Requirement already satisfied: certifi>=2017.4.17 in c:\\users\\jimmy\\anaconda3\\lib\\site-packages (from requests) (2019.9.11)\n",
      "Requirement already satisfied: chardet<3.1.0,>=3.0.2 in c:\\users\\jimmy\\anaconda3\\lib\\site-packages (from requests) (3.0.4)\n",
      "Requirement already satisfied: urllib3!=1.25.0,!=1.25.1,<1.26,>=1.21.1 in c:\\users\\jimmy\\anaconda3\\lib\\site-packages (from requests) (1.24.2)\n",
      "Requirement already satisfied: idna<2.9,>=2.5 in c:\\users\\jimmy\\anaconda3\\lib\\site-packages (from requests) (2.8)\n"
     ]
    }
   ],
   "source": [
    "#pip install boto3\n",
    "!pip install requests"
   ]
  },
  {
   "cell_type": "code",
   "execution_count": 2,
   "metadata": {},
   "outputs": [],
   "source": [
    "import boto3\n",
    "from botocore.client import Config\n",
    "\n",
    "from botocore.exceptions import ClientError"
   ]
  },
  {
   "cell_type": "code",
   "execution_count": 12,
   "metadata": {},
   "outputs": [
    {
     "data": {
      "text/plain": [
       "True"
      ]
     },
     "execution_count": 12,
     "metadata": {},
     "output_type": "execute_result"
    }
   ],
   "source": [
    "def create_bucket(bucket_name, region):\n",
    "\n",
    "    # Create bucket\n",
    "    try:\n",
    "        if region is None:\n",
    "            s3_client = boto3.client('s3')\n",
    "            s3_client.create_bucket(Bucket=bucket_name)\n",
    "        else:\n",
    "            s3_client = boto3.client('s3', region_name=region)\n",
    "            location = {'LocationConstraint': region}\n",
    "            s3_client.create_bucket(Bucket=bucket_name,\n",
    "                                    CreateBucketConfiguration=location)\n",
    "    except ClientError as e:\n",
    "        logging.error(e)\n",
    "        return False\n",
    "    return True\n",
    "\n",
    "create_bucket(\"thejimbowhimboflimbo\",\"us-east-2\")\n",
    "\n"
   ]
  },
  {
   "cell_type": "code",
   "execution_count": 9,
   "metadata": {},
   "outputs": [
    {
     "data": {
      "text/plain": [
       "<Response [200]>"
      ]
     },
     "execution_count": 9,
     "metadata": {},
     "output_type": "execute_result"
    }
   ],
   "source": [
    "import requests\n",
    "def send_simple_message():\n",
    "\treturn requests.post(\n",
    "\t\t\"https://api.mailgun.net/v3/sandbox8333bbf810324d76aa98add329eb7d1c.mailgun.org/messages\",\n",
    "\t\tauth=(\"api\", \"7c64f61cfe699ea469c3f6c4830687d7-1df6ec32-5e6a3b8b\"),\n",
    "\t\tdata={\"from\": \"Excited User <mailgun@sandbox8333bbf810324d76aa98add329eb7d1c.mailgun.org>\",\n",
    "\t\t\t\"to\": [\"ctopherianb@gmail.com\"],\n",
    "\t\t\t\"subject\": \"Hello\",\n",
    "\t\t\t\"text\": \"Testing some Mailgun awesomness!\"})\n",
    "\n",
    "send_simple_message()"
   ]
  },
  {
   "cell_type": "code",
   "execution_count": 12,
   "metadata": {},
   "outputs": [
    {
     "name": "stdout",
     "output_type": "stream",
     "text": [
      "{'MessageId': '16403370-65d5-5257-81ea-653fe4f6c9e2', 'ResponseMetadata': {'RequestId': '34442846-91c3-5455-a17a-7e0910e0efe0', 'HTTPStatusCode': 200, 'HTTPHeaders': {'x-amzn-requestid': '34442846-91c3-5455-a17a-7e0910e0efe0', 'content-type': 'text/xml', 'content-length': '294', 'date': 'Wed, 20 Nov 2019 17:58:58 GMT'}, 'RetryAttempts': 0}}\n"
     ]
    }
   ],
   "source": [
    "import boto3\n",
    "sns = boto3.client('sns')\n",
    "\n",
    "# Publish a simple message to the specified SNS topic\n",
    "response = sns.publish(\n",
    "    TopicArn='arn:aws:sns:us-east-1:679172154239:testcloud',    \n",
    "    Message='Hello World!',    \n",
    ")\n",
    "\n"
   ]
  },
  {
   "cell_type": "code",
   "execution_count": 16,
   "metadata": {},
   "outputs": [
    {
     "name": "stdout",
     "output_type": "stream",
     "text": [
      "{'MessageId': 'd7683adf-d743-51fa-92ee-6c9056ada590', 'ResponseMetadata': {'RequestId': '858825c4-5053-59b1-865e-738bd1bd1ddb', 'HTTPStatusCode': 200, 'HTTPHeaders': {'x-amzn-requestid': '858825c4-5053-59b1-865e-738bd1bd1ddb', 'content-type': 'text/xml', 'content-length': '294', 'date': 'Wed, 20 Nov 2019 18:02:21 GMT'}, 'RetryAttempts': 0}}\n"
     ]
    }
   ],
   "source": [
    "# Create an SNS client\n",
    "sns = boto3.client('sns')\n",
    "\n",
    "# Send a SMS message to the specified phone number\n",
    "response = sns.publish(\n",
    "    PhoneNumber='14014776653',\n",
    "    Message='Hello World!',    \n",
    ")\n",
    "\n",
    "# Print out the response\n",
    "print(response)\n",
    "  "
   ]
  },
  {
   "cell_type": "code",
   "execution_count": 17,
   "metadata": {},
   "outputs": [
    {
     "name": "stdout",
     "output_type": "stream",
     "text": [
      "Collecting twilio\n",
      "  Downloading https://files.pythonhosted.org/packages/17/3c/86d481c25a5ad865e374952bd608159066cca222468e0eeb8abf93760a8a/twilio-6.33.1.tar.gz (396kB)\n",
      "Requirement already satisfied: six in c:\\users\\jimmy\\anaconda3\\lib\\site-packages (from twilio) (1.12.0)\n",
      "Requirement already satisfied: pytz in c:\\users\\jimmy\\anaconda3\\lib\\site-packages (from twilio) (2019.3)\n",
      "Collecting PyJWT>=1.4.2 (from twilio)\n",
      "  Downloading https://files.pythonhosted.org/packages/87/8b/6a9f14b5f781697e51259d81657e6048fd31a113229cf346880bb7545565/PyJWT-1.7.1-py2.py3-none-any.whl\n",
      "Requirement already satisfied: requests>=2.0.0 in c:\\users\\jimmy\\anaconda3\\lib\\site-packages (from twilio) (2.22.0)\n",
      "Requirement already satisfied: idna<2.9,>=2.5 in c:\\users\\jimmy\\anaconda3\\lib\\site-packages (from requests>=2.0.0->twilio) (2.8)\n",
      "Requirement already satisfied: certifi>=2017.4.17 in c:\\users\\jimmy\\anaconda3\\lib\\site-packages (from requests>=2.0.0->twilio) (2019.9.11)\n",
      "Requirement already satisfied: urllib3!=1.25.0,!=1.25.1,<1.26,>=1.21.1 in c:\\users\\jimmy\\anaconda3\\lib\\site-packages (from requests>=2.0.0->twilio) (1.24.2)\n",
      "Requirement already satisfied: chardet<3.1.0,>=3.0.2 in c:\\users\\jimmy\\anaconda3\\lib\\site-packages (from requests>=2.0.0->twilio) (3.0.4)\n",
      "Building wheels for collected packages: twilio\n",
      "  Building wheel for twilio (setup.py): started\n",
      "  Building wheel for twilio (setup.py): finished with status 'done'\n",
      "  Created wheel for twilio: filename=twilio-6.33.1-py2.py3-none-any.whl size=1051039 sha256=aa3cc1082409b85f931a9830bd889e36e357f90d6ba09e08a472c00979407f71\n",
      "  Stored in directory: C:\\Users\\Jimmy\\AppData\\Local\\pip\\Cache\\wheels\\4d\\4f\\6b\\f2961f55bc17064b781d46f3e9fdee9eb874377a219406229a\n",
      "Successfully built twilio\n",
      "Installing collected packages: PyJWT, twilio\n",
      "Successfully installed PyJWT-1.7.1 twilio-6.33.1\n"
     ]
    }
   ],
   "source": [
    "!pip install twilio"
   ]
  },
  {
   "cell_type": "code",
   "execution_count": 26,
   "metadata": {},
   "outputs": [
    {
     "name": "stdout",
     "output_type": "stream",
     "text": [
      "SM786e430198f24b0b9535f47dea90582e\n"
     ]
    }
   ],
   "source": [
    "import requests\n",
    "from twilio.rest import Client\n",
    "account_sid = 'ACf407e552fa8e324fd585377c4b906eac'\n",
    "auth_token = '89ea7eead99b41a74e07959f4d428c55'\n",
    "client = Client(account_sid, auth_token)\n",
    "\n",
    "message = client.messages \\\n",
    "                .create(\n",
    "                     body=\"Join Earth's mightiest heroes. Like Kevin Bacon.\",\n",
    "                     from_='+13368142900',\n",
    "                     to='+14014776653'\n",
    "                 )\n",
    "\n",
    "print(message.sid)"
   ]
  },
  {
   "cell_type": "code",
   "execution_count": null,
   "metadata": {},
   "outputs": [],
   "source": []
  }
 ],
 "metadata": {
  "kernelspec": {
   "display_name": "Python 3",
   "language": "python",
   "name": "python3"
  },
  "language_info": {
   "codemirror_mode": {
    "name": "ipython",
    "version": 3
   },
   "file_extension": ".py",
   "mimetype": "text/x-python",
   "name": "python",
   "nbconvert_exporter": "python",
   "pygments_lexer": "ipython3",
   "version": "3.7.4"
  }
 },
 "nbformat": 4,
 "nbformat_minor": 2
}
