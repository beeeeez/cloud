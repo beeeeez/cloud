{
 "cells": [
  {
   "cell_type": "code",
   "execution_count": null,
   "metadata": {},
   "outputs": [],
   "source": [
    "import logging\n",
    "import boto3\n",
    "from botocore.exceptions import ClientError\n",
    "\n",
    "class s3boy:\n",
    "    \n",
    "    def upload_file(file_name, bucket, object_name=None):\n",
    "        \"\"\"Upload a file to an S3 bucket\n",
    "        :param file_name: File to upload\n",
    "        :param bucket: Bucket to upload to\n",
    "        :param object_name: S3 object name. If not specified then file_name is used\n",
    "        :return: True if file was uploaded, else False\n",
    "        \"\"\"\n",
    "        # If S3 object_name was not specified, use file_name\n",
    "        if object_name is None:\n",
    "            object_name = file_name\n",
    "\n",
    "        # Upload the file\n",
    "        s3_client = boto3.client('s3')\n",
    "        try:\n",
    "            response = s3_client.upload_file(file_name, bucket, object_name)\n",
    "            print(file_name+\" uploaded successfully\")\n",
    "        except ClientError as e:\n",
    "            logging.error(e)\n",
    "            print(\"there was a problem uploading \"+filename)\n",
    "            return False\n",
    "        return True\n",
    "    \n",
    "    \n",
    "    def get_buckets_contents(bucketname):\n",
    "        s3 = boto3.resource('s3')\n",
    "        my_bucket = s3.Bucket(bucketname)\n",
    "        i=0\n",
    "        for file in my_bucket.objects.all():\n",
    "            i=i+1\n",
    "            print(str(i)+\". \"+file.key)\n",
    "        return my_bucket\n",
    "            \n",
    "            \n",
    "    def create_bucket(bucket_name, region):\n",
    "    # Create bucket\n",
    "        try:\n",
    "            if region is None:\n",
    "                s3_client = boto3.client('s3')\n",
    "                s3_client.create_bucket(Bucket=bucket_name)\n",
    "            else:\n",
    "                s3_client = boto3.client('s3', region_name=region)\n",
    "                location = {'LocationConstraint': region}\n",
    "                s3_client.create_bucket(Bucket=bucket_name,\n",
    "                                        CreateBucketConfiguration=location)\n",
    "        except ClientError as e:\n",
    "            logging.error(e)\n",
    "            return False\n",
    "        return True\n",
    "\n"
   ]
  }
 ],
 "metadata": {
  "kernelspec": {
   "display_name": "Python 3",
   "language": "python",
   "name": "python3"
  },
  "language_info": {
   "codemirror_mode": {
    "name": "ipython",
    "version": 3
   },
   "file_extension": ".py",
   "mimetype": "text/x-python",
   "name": "python",
   "nbconvert_exporter": "python",
   "pygments_lexer": "ipython3",
   "version": "3.7.4"
  }
 },
 "nbformat": 4,
 "nbformat_minor": 2
}
