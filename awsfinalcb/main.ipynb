{
 "cells": [
  {
   "cell_type": "code",
   "execution_count": 32,
   "metadata": {},
   "outputs": [
    {
     "ename": "SyntaxError",
     "evalue": "invalid syntax (<ipython-input-32-df65fde7badc>, line 18)",
     "output_type": "error",
     "traceback": [
      "\u001b[1;36m  File \u001b[1;32m\"<ipython-input-32-df65fde7badc>\"\u001b[1;36m, line \u001b[1;32m18\u001b[0m\n\u001b[1;33m    def uploadFile(name):`\u001b[0m\n\u001b[1;37m                         ^\u001b[0m\n\u001b[1;31mSyntaxError\u001b[0m\u001b[1;31m:\u001b[0m invalid syntax\n"
     ]
    }
   ],
   "source": [
    "%run s3.ipynb\n",
    "%run user.ipynb\n",
    "\n",
    "def loginAttempt():\n",
    "    name = input(\"Enter your login name or 'Register' to create a new login : \") \n",
    "    if(name == \"Register\"):\n",
    "        name = input(\"Enter desired name : \") \n",
    "        useboy=user(name)\n",
    "        useboy.register()\n",
    "        return name\n",
    "    else:\n",
    "        useboy=user(name)\n",
    "        if(useboy.login()==True):\n",
    "            return name\n",
    "        else:\n",
    "            return \"DENIED\"     \n",
    "    \n",
    "def uploadFile(name):`\n",
    "    filename=input(\"what is the filename you want to upload? : \")\n",
    "    s3=s3boy\n",
    "    s3.upload_file(filename,\"brownboymanbuttxx\"+name)\n",
    "    \n",
    "def downloadFiles(name):\n",
    "    s3=s3boy\n",
    "    files=s3.get_buckets_contents(\"brownboymanbuttxx\"+name)\n",
    "    selection=input(\"which one do you want to download? : \")\n",
    "    print(selection)\n",
    "    i=0\n",
    "    for file in files.objects.all():\n",
    "        i=i+1\n",
    "        if(int(selection)==i):\n",
    "            print(\"test\")\n",
    "            files.download_file(file.key, file.key)\n",
    "\n",
    "def createNewProject(name):\n",
    "    pname=input(\"what is your project name? : \")\n",
    "    useboy=user(name)\n",
    "    useboy.createProjectTable(pname)\n",
    "    \n",
    "    \n",
    "def listProjects(name):\n",
    "    useboy=user(name)\n",
    "    stuff=useboy.listProjects()\n",
    "    x=0\n",
    "    for i in stuff:\n",
    "        x=x+1\n",
    "        print(str(x)+\". \"+i)\n",
    "    pname=\"\"\n",
    "    sel=input(\"which project do you want to choose?\")\n",
    "    print(\"\\n\\n\\n\"+sel)\n",
    "    x=0\n",
    "    for i in stuff:\n",
    "        x=x+1\n",
    "        if(int(sel)==x):\n",
    "            pname=i\n",
    "    print(pname + \" - \")\n",
    "    if(pname==\"\"):\n",
    "        return \"DENIED\"\n",
    "    else:\n",
    "        return pname\n",
    "        \n",
    "def addTask(name, pname, task, date):\n",
    "    useboy=user(name)\n",
    "    useboy.addTask(pname, task, date)\n",
    "    \n",
    "def listTasks(name, pname):\n",
    "    useboy=user(name)\n",
    "    stuff=useboy.listTasks(pname)\n",
    "    return stuff\n",
    "\n",
    "def completeTask(name, pname, task):\n",
    "    useboy=user(name)\n",
    "    stuff=useboy.completeTask(pname, task)  \n",
    "    "
   ]
  },
  {
   "cell_type": "code",
   "execution_count": null,
   "metadata": {},
   "outputs": [],
   "source": [
    "name=loginAttempt()\n",
    "ans=\"\"\n",
    "if(name==\"DENIED\"):\n",
    "    print(\"incorrect creds, try again or register\")\n",
    "    ans=\"QUIT\"\n",
    "\n",
    "while(ans!=\"QUIT\"):\n",
    "    ans=input(\"\\n1. Add file to bucket\\n2. Download file from bucket\\n3. Add Project\\n4. Select Project\\n'QUIT' to quit\\n\")\n",
    "    if (ans==\"1\"):\n",
    "        uploadFile(name)\n",
    "    elif(ans==\"2\"):\n",
    "        downloadFiles(name)\n",
    "    elif(ans==\"3\"):\n",
    "        createNewProject(name)\n",
    "    elif(ans=='4'):\n",
    "        pname=listProjects(name)\n",
    "        ans2=\"\"\n",
    "        while(ans2!=\"DONE\"):\n",
    "            stuff=listTasks(name,pname)\n",
    "            ans2=input(\"\\n1. Add Task\\n2. Flag task complete\\n'DONE' to go back to main menu\\n\")\n",
    "            if (ans2==\"1\"):\n",
    "                task=input(\"What is the task name?\")\n",
    "                date=input(\"What is the due date?\")\n",
    "                addTask(name, pname, task, date)\n",
    "            elif(ans2==\"2\"):\n",
    "                stuff=listTasks(name,pname)\n",
    "                select=input(\"which task do you want to flag?\")\n",
    "                x=0\n",
    "                for i in stuff:\n",
    "                    x=x+1\n",
    "                    if(int(select)==x):\n",
    "                        task=i\n",
    "                completeTask(name, pname, task)"
   ]
  },
  {
   "cell_type": "code",
   "execution_count": null,
   "metadata": {},
   "outputs": [],
   "source": []
  },
  {
   "cell_type": "code",
   "execution_count": null,
   "metadata": {},
   "outputs": [],
   "source": []
  },
  {
   "cell_type": "code",
   "execution_count": null,
   "metadata": {},
   "outputs": [],
   "source": []
  },
  {
   "cell_type": "code",
   "execution_count": null,
   "metadata": {},
   "outputs": [],
   "source": []
  },
  {
   "cell_type": "code",
   "execution_count": null,
   "metadata": {},
   "outputs": [],
   "source": []
  },
  {
   "cell_type": "code",
   "execution_count": null,
   "metadata": {},
   "outputs": [],
   "source": []
  },
  {
   "cell_type": "code",
   "execution_count": null,
   "metadata": {},
   "outputs": [],
   "source": []
  },
  {
   "cell_type": "code",
   "execution_count": null,
   "metadata": {},
   "outputs": [],
   "source": []
  },
  {
   "cell_type": "code",
   "execution_count": null,
   "metadata": {},
   "outputs": [],
   "source": []
  },
  {
   "cell_type": "code",
   "execution_count": null,
   "metadata": {},
   "outputs": [],
   "source": []
  },
  {
   "cell_type": "code",
   "execution_count": null,
   "metadata": {},
   "outputs": [],
   "source": [
    "listProjects(\"jimmyjam\")"
   ]
  },
  {
   "cell_type": "code",
   "execution_count": null,
   "metadata": {},
   "outputs": [],
   "source": [
    "\n"
   ]
  },
  {
   "cell_type": "code",
   "execution_count": null,
   "metadata": {},
   "outputs": [],
   "source": [
    "addTask(\"jimmyjam\",\"fuckkk\",\"me\",\"12/11/19\")"
   ]
  },
  {
   "cell_type": "code",
   "execution_count": null,
   "metadata": {},
   "outputs": [],
   "source": []
  },
  {
   "cell_type": "code",
   "execution_count": null,
   "metadata": {},
   "outputs": [],
   "source": [
    "listTasks(\"jimmyjam\",\"fuckkk\")"
   ]
  },
  {
   "cell_type": "code",
   "execution_count": null,
   "metadata": {},
   "outputs": [],
   "source": [
    "\n",
    "    "
   ]
  },
  {
   "cell_type": "code",
   "execution_count": null,
   "metadata": {},
   "outputs": [],
   "source": [
    "completeTask(\"jimmyjam\",\"fuckkk\",\"me\")"
   ]
  },
  {
   "cell_type": "code",
   "execution_count": null,
   "metadata": {},
   "outputs": [],
   "source": [
    "\n",
    "\n",
    "\n",
    "    \n",
    "\n",
    "\n",
    "\n",
    "\n",
    "\n",
    "\n",
    "\n"
   ]
  },
  {
   "cell_type": "code",
   "execution_count": null,
   "metadata": {},
   "outputs": [],
   "source": []
  }
 ],
 "metadata": {
  "kernelspec": {
   "display_name": "Python 3",
   "language": "python",
   "name": "python3"
  },
  "language_info": {
   "codemirror_mode": {
    "name": "ipython",
    "version": 3
   },
   "file_extension": ".py",
   "mimetype": "text/x-python",
   "name": "python",
   "nbconvert_exporter": "python",
   "pygments_lexer": "ipython3",
   "version": "3.7.4"
  }
 },
 "nbformat": 4,
 "nbformat_minor": 2
}
